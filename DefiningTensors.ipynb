{
 "cells": [
  {
   "cell_type": "markdown",
   "id": "e3f380a9-33bd-4bc9-89df-d3486446929f",
   "metadata": {},
   "source": [
    "# PyTorch Basics"
   ]
  },
  {
   "cell_type": "markdown",
   "id": "4420588c-4e61-4a1c-930f-f9328c856626",
   "metadata": {},
   "source": [
    "## Descirbe fuction for tensors."
   ]
  },
  {
   "cell_type": "code",
   "execution_count": 1,
   "id": "5624bc5c-aad3-4803-a344-d08507b0f78e",
   "metadata": {},
   "outputs": [],
   "source": [
    "def describe(x):\n",
    "    print(\"Type: {}\".format(x.type()))\n",
    "    print(\"Shape/size: {}\".format(x.shape))\n",
    "    print(\"Values: \\n{}\".format(x))"
   ]
  },
  {
   "cell_type": "code",
   "execution_count": 2,
   "id": "d49c0c52-0a35-492f-be2e-ec76034583b2",
   "metadata": {},
   "outputs": [],
   "source": [
    "import torch"
   ]
  },
  {
   "cell_type": "code",
   "execution_count": 3,
   "id": "17fc65bb-779c-4a38-aab6-617ee08de223",
   "metadata": {},
   "outputs": [
    {
     "name": "stdout",
     "output_type": "stream",
     "text": [
      "Type: torch.FloatTensor\n",
      "Shape/size: torch.Size([2, 3])\n",
      "Values: \n",
      "tensor([[0., 0., 0.],\n",
      "        [0., 0., 0.]])\n"
     ]
    }
   ],
   "source": [
    "describe(torch.Tensor(2,3)) #Generating 2 by 3 tensor "
   ]
  },
  {
   "cell_type": "code",
   "execution_count": 4,
   "id": "306b977d-2acb-4c6f-9e18-743b8f38875e",
   "metadata": {},
   "outputs": [
    {
     "name": "stdout",
     "output_type": "stream",
     "text": [
      "Type: torch.FloatTensor\n",
      "Shape/size: torch.Size([2, 3])\n",
      "Values: \n",
      "tensor([[0.7937, 0.1247, 0.6798],\n",
      "        [0.8658, 0.1642, 0.3038]])\n"
     ]
    }
   ],
   "source": [
    "describe(torch.rand(2,3)) #uniform random"
   ]
  },
  {
   "cell_type": "code",
   "execution_count": 5,
   "id": "7345536a-7f81-460e-8763-8afe942f7dd5",
   "metadata": {},
   "outputs": [
    {
     "name": "stdout",
     "output_type": "stream",
     "text": [
      "Type: torch.FloatTensor\n",
      "Shape/size: torch.Size([2, 3])\n",
      "Values: \n",
      "tensor([[ 0.8997, -1.0998, -0.2522],\n",
      "        [-0.4436,  0.7095, -0.7252]])\n"
     ]
    }
   ],
   "source": [
    "describe(torch.randn(2,3)) # random normal"
   ]
  },
  {
   "cell_type": "code",
   "execution_count": 6,
   "id": "0d3a93cf-1649-4b9c-9b8a-1d7a82617e5e",
   "metadata": {},
   "outputs": [
    {
     "name": "stdout",
     "output_type": "stream",
     "text": [
      "Type: torch.FloatTensor\n",
      "Shape/size: torch.Size([2, 3])\n",
      "Values: \n",
      "tensor([[0., 0., 0.],\n",
      "        [0., 0., 0.]])\n"
     ]
    }
   ],
   "source": [
    "describe(torch.zeros(2,3)) # Generating  2 by 3 tensor that involves zeros"
   ]
  },
  {
   "cell_type": "code",
   "execution_count": 7,
   "id": "19d47b0a-c8fc-456d-a67b-ecb9c7f93a9f",
   "metadata": {},
   "outputs": [],
   "source": [
    "x = torch.ones(2,3) # Generating  2 by 3 tensor that involves ones"
   ]
  },
  {
   "cell_type": "code",
   "execution_count": 8,
   "id": "99e2d15b-bab5-4197-b4de-3a2430528f5c",
   "metadata": {},
   "outputs": [
    {
     "data": {
      "text/plain": [
       "tensor([[1., 1., 1.],\n",
       "        [1., 1., 1.]])"
      ]
     },
     "execution_count": 8,
     "metadata": {},
     "output_type": "execute_result"
    }
   ],
   "source": [
    "x"
   ]
  },
  {
   "cell_type": "code",
   "execution_count": 9,
   "id": "e11d4f24-3a43-4203-bdee-02d4b877322c",
   "metadata": {},
   "outputs": [
    {
     "data": {
      "text/plain": [
       "tensor([[6., 6., 6.],\n",
       "        [6., 6., 6.]])"
      ]
     },
     "execution_count": 9,
     "metadata": {},
     "output_type": "execute_result"
    }
   ],
   "source": [
    "x.fill_(6) # Changing the ones tensor into the tensor which is filled by number which is given in the fill_() function"
   ]
  },
  {
   "cell_type": "code",
   "execution_count": 10,
   "id": "f5533253-f956-444b-8a61-9c1ff0416935",
   "metadata": {},
   "outputs": [
    {
     "name": "stdout",
     "output_type": "stream",
     "text": [
      "Type: torch.FloatTensor\n",
      "Shape/size: torch.Size([2, 3])\n",
      "Values: \n",
      "tensor([[6., 6., 6.],\n",
      "        [6., 6., 6.]])\n"
     ]
    }
   ],
   "source": [
    "describe(x)"
   ]
  },
  {
   "cell_type": "code",
   "execution_count": 11,
   "id": "b05f9fab-494a-4231-a6df-70fde8ff6e78",
   "metadata": {},
   "outputs": [],
   "source": [
    "import numpy as np"
   ]
  },
  {
   "cell_type": "code",
   "execution_count": 12,
   "id": "0316d275-9a8d-45ed-a3d8-2ab37c8f799b",
   "metadata": {},
   "outputs": [
    {
     "data": {
      "text/plain": [
       "array([[0.87691151, 0.82751928, 0.25418752],\n",
       "       [0.40106524, 0.73814217, 0.49116824]])"
      ]
     },
     "execution_count": 12,
     "metadata": {},
     "output_type": "execute_result"
    }
   ],
   "source": [
    "npy = np.random.rand(2,3)\n",
    "npy"
   ]
  },
  {
   "cell_type": "code",
   "execution_count": 13,
   "id": "f5627460-37e8-4fd0-b96c-0367dbaa9a9a",
   "metadata": {},
   "outputs": [
    {
     "name": "stdout",
     "output_type": "stream",
     "text": [
      "Type: torch.DoubleTensor\n",
      "Shape/size: torch.Size([2, 3])\n",
      "Values: \n",
      "tensor([[0.8769, 0.8275, 0.2542],\n",
      "        [0.4011, 0.7381, 0.4912]], dtype=torch.float64)\n"
     ]
    }
   ],
   "source": [
    "describe(torch.from_numpy(npy)) # numpy tpye to the tensor type"
   ]
  },
  {
   "cell_type": "code",
   "execution_count": 14,
   "id": "4b1cb978-eca7-4857-a97d-2f8664248df8",
   "metadata": {},
   "outputs": [
    {
     "name": "stdout",
     "output_type": "stream",
     "text": [
      "Type: torch.FloatTensor\n",
      "Shape/size: torch.Size([2, 3])\n",
      "Values: \n",
      "tensor([[1., 2., 3.],\n",
      "        [4., 5., 6.]])\n"
     ]
    }
   ],
   "source": [
    "x = torch.FloatTensor([[1,2,3],\n",
    "                      [4,5,6]])\n",
    "describe(x)"
   ]
  },
  {
   "cell_type": "code",
   "execution_count": 15,
   "id": "85c889b8-166f-4baa-bf03-cfbbbf0f3b6e",
   "metadata": {},
   "outputs": [
    {
     "name": "stdout",
     "output_type": "stream",
     "text": [
      "Type: torch.LongTensor\n",
      "Shape/size: torch.Size([2, 3])\n",
      "Values: \n",
      "tensor([[1, 2, 3],\n",
      "        [4, 5, 6]])\n"
     ]
    }
   ],
   "source": [
    "x = x.long() # changing the type of tensor \n",
    "describe(x)"
   ]
  },
  {
   "cell_type": "code",
   "execution_count": 16,
   "id": "2cb88294-0cf8-491d-a3db-014b4df82a35",
   "metadata": {},
   "outputs": [
    {
     "name": "stdout",
     "output_type": "stream",
     "text": [
      "Type: torch.LongTensor\n",
      "Shape/size: torch.Size([2, 3])\n",
      "Values: \n",
      "tensor([[1, 2, 3],\n",
      "        [4, 5, 6]])\n"
     ]
    }
   ],
   "source": [
    "x = torch.tensor([[1,2,3],[4,5,6]],\n",
    "                 dtype=torch.int64)\n",
    "describe(x)"
   ]
  },
  {
   "cell_type": "code",
   "execution_count": 17,
   "id": "9b750ea3-c420-4f47-bb6c-a62dbf341315",
   "metadata": {},
   "outputs": [
    {
     "name": "stdout",
     "output_type": "stream",
     "text": [
      "Type: torch.FloatTensor\n",
      "Shape/size: torch.Size([2, 3])\n",
      "Values: \n",
      "tensor([[1., 2., 3.],\n",
      "        [4., 5., 6.]])\n"
     ]
    }
   ],
   "source": [
    "x = x.float()\n",
    "describe(x)"
   ]
  },
  {
   "cell_type": "code",
   "execution_count": null,
   "id": "51cc4abd-ed1d-42f1-a961-154d8cc2d228",
   "metadata": {},
   "outputs": [],
   "source": []
  }
 ],
 "metadata": {
  "kernelspec": {
   "display_name": "Python 3",
   "language": "python",
   "name": "python3"
  },
  "language_info": {
   "codemirror_mode": {
    "name": "ipython",
    "version": 3
   },
   "file_extension": ".py",
   "mimetype": "text/x-python",
   "name": "python",
   "nbconvert_exporter": "python",
   "pygments_lexer": "ipython3",
   "version": "3.9.5"
  }
 },
 "nbformat": 4,
 "nbformat_minor": 5
}
