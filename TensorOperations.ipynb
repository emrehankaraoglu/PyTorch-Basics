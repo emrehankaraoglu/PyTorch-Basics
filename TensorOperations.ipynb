{
 "cells": [
  {
   "cell_type": "markdown",
   "id": "657980d8-5599-42a8-a6fc-9f4b6dfc8ee2",
   "metadata": {},
   "source": [
    "## Tensor Operations"
   ]
  },
  {
   "cell_type": "code",
   "execution_count": 1,
   "id": "0a58749f-f2f1-47bd-9a3a-1e3b7d879b92",
   "metadata": {},
   "outputs": [],
   "source": [
    "def describe(x):\n",
    "    print(\"Type: {}\".format(x.type()))\n",
    "    print(\"Shape/size: {}\".format(x.shape))\n",
    "    print(\"Values: \\n{}\".format(x))"
   ]
  },
  {
   "cell_type": "code",
   "execution_count": 2,
   "id": "6ce7cbcf-d8ae-49a9-b036-2f3b42089b34",
   "metadata": {},
   "outputs": [],
   "source": [
    "import torch"
   ]
  },
  {
   "cell_type": "code",
   "execution_count": 3,
   "id": "7ed6eb15-6112-487c-be16-049755b606b5",
   "metadata": {},
   "outputs": [
    {
     "name": "stdout",
     "output_type": "stream",
     "text": [
      "Type: torch.FloatTensor\n",
      "Shape/size: torch.Size([2, 3])\n",
      "Values: \n",
      "tensor([[ 0.5568, -0.0504,  0.5663],\n",
      "        [ 0.0843, -0.9688,  0.1131]])\n"
     ]
    }
   ],
   "source": [
    "x = torch.randn(2,3)\n",
    "describe(x)"
   ]
  },
  {
   "cell_type": "code",
   "execution_count": 4,
   "id": "6d2da46c-d6dc-44a8-89d2-dd5d8846a4e5",
   "metadata": {},
   "outputs": [
    {
     "name": "stdout",
     "output_type": "stream",
     "text": [
      "Type: torch.FloatTensor\n",
      "Shape/size: torch.Size([2, 3])\n",
      "Values: \n",
      "tensor([[ 1.1136, -0.1007,  1.1325],\n",
      "        [ 0.1686, -1.9377,  0.2263]])\n"
     ]
    }
   ],
   "source": [
    "describe(torch.add(x,x)) #adding function"
   ]
  },
  {
   "cell_type": "code",
   "execution_count": 5,
   "id": "1131f146-85f4-4229-904c-2d4226e76999",
   "metadata": {},
   "outputs": [
    {
     "name": "stdout",
     "output_type": "stream",
     "text": [
      "Type: torch.FloatTensor\n",
      "Shape/size: torch.Size([2, 3])\n",
      "Values: \n",
      "tensor([[ 1.1136, -0.1007,  1.1325],\n",
      "        [ 0.1686, -1.9377,  0.2263]])\n"
     ]
    }
   ],
   "source": [
    "describe(x+x) # manually adding "
   ]
  },
  {
   "cell_type": "code",
   "execution_count": 6,
   "id": "c465fa6e-75e0-4445-8535-272ae3be3b25",
   "metadata": {},
   "outputs": [],
   "source": [
    "x = torch.arange(6)"
   ]
  },
  {
   "cell_type": "code",
   "execution_count": 7,
   "id": "c2b6f0c1-132d-478e-98de-c4ea31308885",
   "metadata": {},
   "outputs": [
    {
     "name": "stdout",
     "output_type": "stream",
     "text": [
      "Type: torch.LongTensor\n",
      "Shape/size: torch.Size([6])\n",
      "Values: \n",
      "tensor([0, 1, 2, 3, 4, 5])\n"
     ]
    }
   ],
   "source": [
    "describe(x)"
   ]
  },
  {
   "cell_type": "code",
   "execution_count": 8,
   "id": "d8639213-68d1-4383-ac9e-e9a89d64d63b",
   "metadata": {},
   "outputs": [
    {
     "name": "stdout",
     "output_type": "stream",
     "text": [
      "Type: torch.LongTensor\n",
      "Shape/size: torch.Size([2, 3])\n",
      "Values: \n",
      "tensor([[0, 1, 2],\n",
      "        [3, 4, 5]])\n"
     ]
    }
   ],
   "source": [
    "x = x.view(2,3) #Changing the shape of tensor\n",
    "describe(x)"
   ]
  },
  {
   "cell_type": "code",
   "execution_count": 9,
   "id": "03fb5295-d8e0-495b-89c3-15bb586dfe4b",
   "metadata": {},
   "outputs": [
    {
     "name": "stdout",
     "output_type": "stream",
     "text": [
      "Type: torch.LongTensor\n",
      "Shape/size: torch.Size([3])\n",
      "Values: \n",
      "tensor([3, 5, 7])\n"
     ]
    }
   ],
   "source": [
    "describe(torch.sum(x,dim=0)) #Adding in the columns  "
   ]
  },
  {
   "cell_type": "code",
   "execution_count": 10,
   "id": "0b3987d1-e6f5-467f-8146-4dc8d5a961aa",
   "metadata": {},
   "outputs": [
    {
     "name": "stdout",
     "output_type": "stream",
     "text": [
      "Type: torch.LongTensor\n",
      "Shape/size: torch.Size([2])\n",
      "Values: \n",
      "tensor([ 3, 12])\n"
     ]
    }
   ],
   "source": [
    "describe(torch.sum(x,dim=1)) # Adding in the rows  "
   ]
  },
  {
   "cell_type": "code",
   "execution_count": 11,
   "id": "d54e1529-a812-4a70-a07f-45f854f6151d",
   "metadata": {},
   "outputs": [
    {
     "name": "stdout",
     "output_type": "stream",
     "text": [
      "Type: torch.LongTensor\n",
      "Shape/size: torch.Size([3, 2])\n",
      "Values: \n",
      "tensor([[0, 3],\n",
      "        [1, 4],\n",
      "        [2, 5]])\n"
     ]
    }
   ],
   "source": [
    "describe(torch.transpose(x,0,1))"
   ]
  },
  {
   "cell_type": "code",
   "execution_count": null,
   "id": "ca8bba48-8528-413f-b9b8-5d0684faca04",
   "metadata": {},
   "outputs": [],
   "source": []
  }
 ],
 "metadata": {
  "kernelspec": {
   "display_name": "Python 3",
   "language": "python",
   "name": "python3"
  },
  "language_info": {
   "codemirror_mode": {
    "name": "ipython",
    "version": 3
   },
   "file_extension": ".py",
   "mimetype": "text/x-python",
   "name": "python",
   "nbconvert_exporter": "python",
   "pygments_lexer": "ipython3",
   "version": "3.9.5"
  }
 },
 "nbformat": 4,
 "nbformat_minor": 5
}
